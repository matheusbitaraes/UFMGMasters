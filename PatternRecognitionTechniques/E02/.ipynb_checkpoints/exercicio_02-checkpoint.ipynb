{
 "cells": [
  {
   "cell_type": "markdown",
   "metadata": {},
   "source": [
    "# Exercicio 1\n",
    "\n",
    "O aluno deverá programar o método do Template Matching e deverá tentar encontrar\n",
    "as placas 1 e 2 mostradas nas figuras 0.1 e 0.2 na figura geral mostrada na Fig. 0.3. Os\n",
    "arquivos com as figuras são disponibilizadas para o aluno.\n",
    "O aluno deverá implementar diferentes métricas e avaliar o desempenho de cada uma.\n",
    "É aconselhavel que o aluno ao carregar a imagem a transforme em escala de cinzas antes\n",
    "de aplicar o método."
   ]
  },
  {
   "cell_type": "code",
   "execution_count": null,
   "metadata": {},
   "outputs": [],
   "source": []
  },
  {
   "cell_type": "markdown",
   "metadata": {},
   "source": [
    "# Exercicio 2\n",
    "\n",
    "Nesta segunda atividade o aluno deverá fornecer os dígitos de uma placa e o algoritmo\n",
    "deverá encontrar a placa na figura geral. O aluno deverá fornecer as placas:\n",
    "• JUX-580\n",
    "• JFD-703\n",
    "Nas duas atividades o aluno deverá mostrar o gráfico da superfície de contorno para cada\n",
    "uma das métricas utilizadas, indicando o local da placa encontrada e deverá discutir os\n",
    "resultados para as diferentes métricas."
   ]
  }
 ],
 "metadata": {
  "kernelspec": {
   "display_name": "Python 3",
   "language": "python",
   "name": "python3"
  },
  "language_info": {
   "codemirror_mode": {
    "name": "ipython",
    "version": 3
   },
   "file_extension": ".py",
   "mimetype": "text/x-python",
   "name": "python",
   "nbconvert_exporter": "python",
   "pygments_lexer": "ipython3",
   "version": "3.8.7"
  }
 },
 "nbformat": 4,
 "nbformat_minor": 4
}
