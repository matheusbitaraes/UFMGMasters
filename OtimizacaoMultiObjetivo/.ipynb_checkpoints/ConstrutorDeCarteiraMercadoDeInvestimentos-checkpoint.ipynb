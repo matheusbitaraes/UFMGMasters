{
 "cells": [
  {
   "cell_type": "markdown",
   "metadata": {},
   "source": [
    "# Otimizacão multiobjetivo\n",
    "\n",
    " primeiramente definir as funções das ações\n",
    "\n",
    "função 1: lucro\n",
    "\n",
    "    lucro(t) = sum(X*f(A,t))\n",
    "    X = vetor com investimento\n",
    "    F = funcão da ação A no tempo t, que retorna a valorizacão da ação neste tempo\n",
    "\n",
    "função 2: risco\n",
    "\n",
    "    risco(t) = ??\n",
    "\n",
    "restrições:\n",
    "    \n",
    "    valor inicial a ser investido \n",
    "    valores minimos a serem investidos para cada ação\n",
    "    \n",
    "    \n",
    "\n",
    "Taxas das corretoras:\n",
    "\n",
    "Taxa de corretagem\n",
    "É a taxa cobrada pelo serviço de intermediação das transações de compra e venda de aplicações financeiras.\n",
    "\n",
    "O valor da taxa de corretagem varia de acordo com o tipo de operação solicitada pelo cliente. Cada tipo de mercado em que se negocia tem um custo diferente. Esses mercados são:\n",
    "\n",
    "mercado à vista: é onde as ações das empresas são negociadas;\n",
    "mercado fracionário: voltado para negociar frações de ações;\n",
    "mercado futuro: onde se negocia aplicações com data de vencimento determinada;\n",
    "mercado de derivativos: voltado para negociações mais sofisticadas.\n",
    "Existem duas modalidades de operações no mercado e, como elas exigem infraestrutura diferente, o preço da corretagem varia:\n",
    "\n",
    "operação normal ou swing trade: compra e venda de um investimento em dias diferentes;\n",
    "day trade: compra e venda (ou vice-versa) no mesmo dia.\n",
    "Para quem investe altos valores em renda variável, o ideal é escolher uma corretora que cobre uma taxa fixa de corretagem, já que esse custo pode ser diluído no lucro das operações.\n",
    "\n",
    "Um exemplo: para uma corretora que cobra taxa fixa de R$ 10 por operação, não fará diferença se o investidor comprar 100 ações ou 1 mil. O valor da corretagem sempre será o mesmo. Ou seja, o tamanho do lote não faz diferença. O que é considerado é o número de ordens.\n",
    "\n",
    "\n",
    "Taxa de custódia\n",
    "A taxa de custódia é um valor cobrado para registrar e guardar os investimentos no CPF de uma pessoa, sejam eles títulos ou ações. Ela pode variar de uma corretora para outra, e em alguns casos, há isenção.\n",
    "\n",
    "ISS (Imposto sobre Serviços)\n",
    "A corretagem é um tipo de serviço. Portanto, ela está sujeita a impostos regionais sobre essa função.\n",
    "\n",
    "Em São Paulo, por exemplo, há o ISS (Imposto Sobre Serviços). Essa é uma tarifa municipal cobrada sobre o valor taxa de corretagem, podendo custar até 5% dela.\n",
    "\n",
    "Vale lembrar que, se a corretagem for zero, não há incidência do imposto.\n",
    "\n",
    "Emolumentos\n",
    "Essas taxas são cobradas pela B3, a bolsa de valores brasileira, e pela CBLC (Companhia Brasileira de Liquidação e Custódia) para processar as transações no mercado financeiro. Referem-se à negociação e ao processamento das ordens de compra e venda (a chamada liquidação).\n",
    "\n",
    "Imposto de Renda\n",
    "Todas as pessoas que fazem investimentos precisam declarar o Imposto de Renda.\n",
    "\n",
    "No caso de quem aplica em renda fixa e fundos de investimento, esse imposto é recolhido automaticamente.\n",
    "\n",
    "Porém, quem investe em ações ou outros ativos de renda variável, precisa recolher manualmente esse imposto todo mês. Para isso, é necessário preencher uma guia de arrecadação chamada DARF (já mostramos aqui no blog o passo a passo para emitir uma DARF).\n",
    "\n",
    "Vale lembrar que as operações com ações são isentas de Imposto de Renda quando o volume total de vendas ficar abaixo de R$ 20 mil por mês."
   ]
  },
  {
   "cell_type": "markdown",
   "metadata": {},
   "source": [
    "Atributos de uma ação:\n",
    "\n",
    "i = Valor estipulado de rendimento\n",
    "conf = Confiança nas predições\n",
    "\n"
   ]
  },
  {
   "cell_type": "code",
   "execution_count": 2,
   "metadata": {},
   "outputs": [
    {
     "ename": "SyntaxError",
     "evalue": "invalid syntax (<ipython-input-2-678aee5f98de>, line 8)",
     "output_type": "error",
     "traceback": [
      "\u001b[0;36m  File \u001b[0;32m\"<ipython-input-2-678aee5f98de>\"\u001b[0;36m, line \u001b[0;32m8\u001b[0m\n\u001b[0;31m    Modelagem do risco\u001b[0m\n\u001b[0m               ^\u001b[0m\n\u001b[0;31mSyntaxError\u001b[0m\u001b[0;31m:\u001b[0m invalid syntax\n"
     ]
    }
   ],
   "source": [
    "# modelagem da acão:\n",
    "# def R(x):\n",
    "#     taxa\n",
    "#     return x + 1\n"
   ]
  },
  {
   "cell_type": "code",
   "execution_count": 8,
   "metadata": {},
   "outputs": [],
   "source": [
    "# ações de exemplo (retas):\n",
    "def A1(x,t):\n",
    "    A = 2\n",
    "    B = -1\n",
    "    return x+A*t+B\n",
    "\n",
    "def A2(x,t):\n",
    "    A = 0.3\n",
    "    B = 0\n",
    "    return x+A*t+B\n",
    "\n",
    "def A3(x,t):\n",
    "    A = 24\n",
    "    B = -1\n",
    "    return x+A*t+B"
   ]
  },
  {
   "cell_type": "code",
   "execution_count": 15,
   "metadata": {},
   "outputs": [
    {
     "ename": "SyntaxError",
     "evalue": "invalid syntax (<ipython-input-15-3724c0af59de>, line 5)",
     "output_type": "error",
     "traceback": [
      "\u001b[0;36m  File \u001b[0;32m\"<ipython-input-15-3724c0af59de>\"\u001b[0;36m, line \u001b[0;32m5\u001b[0m\n\u001b[0;31m    A1(x,t in range t)\u001b[0m\n\u001b[0m                    ^\u001b[0m\n\u001b[0;31mSyntaxError\u001b[0m\u001b[0;31m:\u001b[0m invalid syntax\n"
     ]
    }
   ],
   "source": [
    "# plot das ações de exemplo\n",
    "import numpy as np\n",
    "x = 50\n",
    "t = range(100)\n",
    "A1(x,t in range t)"
   ]
  },
  {
   "cell_type": "code",
   "execution_count": 14,
   "metadata": {},
   "outputs": [
    {
     "data": {
      "text/plain": [
       "array([0.        , 0.05263158, 0.10526316, 0.15789474, 0.21052632,\n",
       "       0.26315789, 0.31578947, 0.36842105, 0.42105263, 0.47368421,\n",
       "       0.52631579, 0.57894737, 0.63157895, 0.68421053, 0.73684211,\n",
       "       0.78947368, 0.84210526, 0.89473684, 0.94736842, 1.        ])"
      ]
     },
     "execution_count": 14,
     "metadata": {},
     "output_type": "execute_result"
    }
   ],
   "source": [
    "np.linspace(0, 1, 20)"
   ]
  },
  {
   "cell_type": "code",
   "execution_count": null,
   "metadata": {},
   "outputs": [],
   "source": [
    "# Modelagem da confiabilidade da predição\n",
    "\n",
    "def risk():\n",
    "    "
   ]
  }
 ],
 "metadata": {
  "kernelspec": {
   "display_name": "Python 3",
   "language": "python",
   "name": "python3"
  },
  "language_info": {
   "codemirror_mode": {
    "name": "ipython",
    "version": 3
   },
   "file_extension": ".py",
   "mimetype": "text/x-python",
   "name": "python",
   "nbconvert_exporter": "python",
   "pygments_lexer": "ipython3",
   "version": "3.7.4"
  }
 },
 "nbformat": 4,
 "nbformat_minor": 2
}
